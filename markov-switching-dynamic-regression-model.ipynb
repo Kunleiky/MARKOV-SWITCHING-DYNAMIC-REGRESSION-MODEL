{
 "cells": [
  {
   "cell_type": "markdown",
   "metadata": {},
   "source": [
    "# Markov Switching Dynamic Regression Model"
   ]
  },
  {
   "cell_type": "markdown",
   "metadata": {},
   "source": [
    "## Importing the necessary libraries and modules"
   ]
  },
  {
   "cell_type": "code",
   "execution_count": 52,
   "metadata": {
    "ExecuteTime": {
     "end_time": "2021-01-03T14:55:47.562781Z",
     "start_time": "2021-01-03T14:55:46.370468Z"
    }
   },
   "outputs": [],
   "source": [
    "import numpy as np\n",
    "import pandas as pd\n",
    "import statsmodels.api as sm\n",
    "import matplotlib.pyplot as plt\n",
    "import warnings\n",
    "plt.rcParams['figure.figsize']=10,5\n",
    "warnings.filterwarnings('ignore')"
   ]
  },
  {
   "cell_type": "code",
   "execution_count": 53,
   "metadata": {
    "ExecuteTime": {
     "end_time": "2021-01-03T14:55:52.864475Z",
     "start_time": "2021-01-03T14:55:49.998526Z"
    }
   },
   "outputs": [],
   "source": [
    "df=pd.read_excel(\"bond_stock_data.xlsx\",sheet_name=0)"
   ]
  },
  {
   "cell_type": "code",
   "execution_count": 54,
   "metadata": {
    "ExecuteTime": {
     "end_time": "2021-01-03T14:55:54.600656Z",
     "start_time": "2021-01-03T14:55:53.690889Z"
    }
   },
   "outputs": [
    {
     "data": {
      "text/html": [
       "<div>\n",
       "<style scoped>\n",
       "    .dataframe tbody tr th:only-of-type {\n",
       "        vertical-align: middle;\n",
       "    }\n",
       "\n",
       "    .dataframe tbody tr th {\n",
       "        vertical-align: top;\n",
       "    }\n",
       "\n",
       "    .dataframe thead th {\n",
       "        text-align: right;\n",
       "    }\n",
       "</style>\n",
       "<table border=\"1\" class=\"dataframe\">\n",
       "  <thead>\n",
       "    <tr style=\"text-align: right;\">\n",
       "      <th></th>\n",
       "      <th>Months</th>\n",
       "      <th>10YBond Returns</th>\n",
       "      <th>Stock Returns</th>\n",
       "      <th>Monetary Policy Rate</th>\n",
       "      <th>Inflation Rate</th>\n",
       "      <th>Exchange Rate</th>\n",
       "    </tr>\n",
       "  </thead>\n",
       "  <tbody>\n",
       "    <tr>\n",
       "      <th>0</th>\n",
       "      <td>2015-01-01</td>\n",
       "      <td>0.153</td>\n",
       "      <td>0.00001</td>\n",
       "      <td>0.11</td>\n",
       "      <td>165.766401</td>\n",
       "      <td>66.466240</td>\n",
       "    </tr>\n",
       "    <tr>\n",
       "      <th>1</th>\n",
       "      <td>2015-02-28</td>\n",
       "      <td>0.159</td>\n",
       "      <td>0.01830</td>\n",
       "      <td>0.11</td>\n",
       "      <td>166.901129</td>\n",
       "      <td>76.353096</td>\n",
       "    </tr>\n",
       "    <tr>\n",
       "      <th>2</th>\n",
       "      <td>2015-03-31</td>\n",
       "      <td>0.161</td>\n",
       "      <td>0.05450</td>\n",
       "      <td>0.11</td>\n",
       "      <td>168.419862</td>\n",
       "      <td>73.372332</td>\n",
       "    </tr>\n",
       "    <tr>\n",
       "      <th>3</th>\n",
       "      <td>2015-04-30</td>\n",
       "      <td>0.144</td>\n",
       "      <td>0.09330</td>\n",
       "      <td>0.11</td>\n",
       "      <td>169.708184</td>\n",
       "      <td>73.047738</td>\n",
       "    </tr>\n",
       "    <tr>\n",
       "      <th>4</th>\n",
       "      <td>2015-05-31</td>\n",
       "      <td>0.140</td>\n",
       "      <td>-0.01150</td>\n",
       "      <td>0.11</td>\n",
       "      <td>171.577356</td>\n",
       "      <td>73.208693</td>\n",
       "    </tr>\n",
       "  </tbody>\n",
       "</table>\n",
       "</div>"
      ],
      "text/plain": [
       "      Months  10YBond Returns  Stock Returns  Monetary Policy Rate  \\\n",
       "0 2015-01-01            0.153        0.00001                  0.11   \n",
       "1 2015-02-28            0.159        0.01830                  0.11   \n",
       "2 2015-03-31            0.161        0.05450                  0.11   \n",
       "3 2015-04-30            0.144        0.09330                  0.11   \n",
       "4 2015-05-31            0.140       -0.01150                  0.11   \n",
       "\n",
       "   Inflation Rate  Exchange Rate  \n",
       "0      165.766401      66.466240  \n",
       "1      166.901129      76.353096  \n",
       "2      168.419862      73.372332  \n",
       "3      169.708184      73.047738  \n",
       "4      171.577356      73.208693  "
      ]
     },
     "execution_count": 54,
     "metadata": {},
     "output_type": "execute_result"
    }
   ],
   "source": [
    "#Examine the first few columns\n",
    "df.head()"
   ]
  },
  {
   "cell_type": "code",
   "execution_count": 55,
   "metadata": {
    "ExecuteTime": {
     "end_time": "2021-01-03T14:55:56.156007Z",
     "start_time": "2021-01-03T14:55:55.735662Z"
    }
   },
   "outputs": [
    {
     "data": {
      "text/plain": [
       "Index(['Months', '10YBond Returns', 'Stock Returns', 'Monetary Policy Rate',\n",
       "       'Inflation Rate', 'Exchange Rate'],\n",
       "      dtype='object')"
      ]
     },
     "execution_count": 55,
     "metadata": {},
     "output_type": "execute_result"
    }
   ],
   "source": [
    "#Check the columns\n",
    "df.columns"
   ]
  },
  {
   "cell_type": "code",
   "execution_count": 56,
   "metadata": {
    "ExecuteTime": {
     "end_time": "2021-01-03T14:55:58.634210Z",
     "start_time": "2021-01-03T14:55:57.043219Z"
    }
   },
   "outputs": [
    {
     "name": "stdout",
     "output_type": "stream",
     "text": [
      "<class 'pandas.core.frame.DataFrame'>\n",
      "RangeIndex: 60 entries, 0 to 59\n",
      "Data columns (total 6 columns):\n",
      " #   Column                Non-Null Count  Dtype         \n",
      "---  ------                --------------  -----         \n",
      " 0   Months                60 non-null     datetime64[ns]\n",
      " 1   10YBond Returns       60 non-null     float64       \n",
      " 2   Stock Returns         60 non-null     float64       \n",
      " 3   Monetary Policy Rate  60 non-null     float64       \n",
      " 4   Inflation Rate        60 non-null     float64       \n",
      " 5   Exchange Rate         60 non-null     float64       \n",
      "dtypes: datetime64[ns](1), float64(5)\n",
      "memory usage: 2.9 KB\n"
     ]
    }
   ],
   "source": [
    "#Examine the data type of the columns\n",
    "df.info()"
   ]
  },
  {
   "cell_type": "code",
   "execution_count": 57,
   "metadata": {
    "ExecuteTime": {
     "end_time": "2021-01-03T14:55:59.772816Z",
     "start_time": "2021-01-03T14:55:59.438722Z"
    }
   },
   "outputs": [],
   "source": [
    "#Ensure the Month column is indeed in  datetime format\n",
    "df['Months']=pd.to_datetime(df['Months'])"
   ]
  },
  {
   "cell_type": "code",
   "execution_count": 58,
   "metadata": {
    "ExecuteTime": {
     "end_time": "2021-01-03T14:56:00.978781Z",
     "start_time": "2021-01-03T14:56:00.702445Z"
    }
   },
   "outputs": [
    {
     "data": {
      "text/html": [
       "<div>\n",
       "<style scoped>\n",
       "    .dataframe tbody tr th:only-of-type {\n",
       "        vertical-align: middle;\n",
       "    }\n",
       "\n",
       "    .dataframe tbody tr th {\n",
       "        vertical-align: top;\n",
       "    }\n",
       "\n",
       "    .dataframe thead th {\n",
       "        text-align: right;\n",
       "    }\n",
       "</style>\n",
       "<table border=\"1\" class=\"dataframe\">\n",
       "  <thead>\n",
       "    <tr style=\"text-align: right;\">\n",
       "      <th></th>\n",
       "      <th>Months</th>\n",
       "      <th>10YBond Returns</th>\n",
       "      <th>Stock Returns</th>\n",
       "      <th>Monetary Policy Rate</th>\n",
       "      <th>Inflation Rate</th>\n",
       "      <th>Exchange Rate</th>\n",
       "    </tr>\n",
       "  </thead>\n",
       "  <tbody>\n",
       "    <tr>\n",
       "      <th>0</th>\n",
       "      <td>2015-01-01</td>\n",
       "      <td>0.153</td>\n",
       "      <td>0.00001</td>\n",
       "      <td>0.11</td>\n",
       "      <td>165.766401</td>\n",
       "      <td>66.466240</td>\n",
       "    </tr>\n",
       "    <tr>\n",
       "      <th>1</th>\n",
       "      <td>2015-02-28</td>\n",
       "      <td>0.159</td>\n",
       "      <td>0.01830</td>\n",
       "      <td>0.11</td>\n",
       "      <td>166.901129</td>\n",
       "      <td>76.353096</td>\n",
       "    </tr>\n",
       "    <tr>\n",
       "      <th>2</th>\n",
       "      <td>2015-03-31</td>\n",
       "      <td>0.161</td>\n",
       "      <td>0.05450</td>\n",
       "      <td>0.11</td>\n",
       "      <td>168.419862</td>\n",
       "      <td>73.372332</td>\n",
       "    </tr>\n",
       "    <tr>\n",
       "      <th>3</th>\n",
       "      <td>2015-04-30</td>\n",
       "      <td>0.144</td>\n",
       "      <td>0.09330</td>\n",
       "      <td>0.11</td>\n",
       "      <td>169.708184</td>\n",
       "      <td>73.047738</td>\n",
       "    </tr>\n",
       "    <tr>\n",
       "      <th>4</th>\n",
       "      <td>2015-05-31</td>\n",
       "      <td>0.140</td>\n",
       "      <td>-0.01150</td>\n",
       "      <td>0.11</td>\n",
       "      <td>171.577356</td>\n",
       "      <td>73.208693</td>\n",
       "    </tr>\n",
       "  </tbody>\n",
       "</table>\n",
       "</div>"
      ],
      "text/plain": [
       "      Months  10YBond Returns  Stock Returns  Monetary Policy Rate  \\\n",
       "0 2015-01-01            0.153        0.00001                  0.11   \n",
       "1 2015-02-28            0.159        0.01830                  0.11   \n",
       "2 2015-03-31            0.161        0.05450                  0.11   \n",
       "3 2015-04-30            0.144        0.09330                  0.11   \n",
       "4 2015-05-31            0.140       -0.01150                  0.11   \n",
       "\n",
       "   Inflation Rate  Exchange Rate  \n",
       "0      165.766401      66.466240  \n",
       "1      166.901129      76.353096  \n",
       "2      168.419862      73.372332  \n",
       "3      169.708184      73.047738  \n",
       "4      171.577356      73.208693  "
      ]
     },
     "execution_count": 58,
     "metadata": {},
     "output_type": "execute_result"
    }
   ],
   "source": [
    "#Examine the data again\n",
    "df.head()"
   ]
  },
  {
   "cell_type": "code",
   "execution_count": 59,
   "metadata": {
    "ExecuteTime": {
     "end_time": "2021-01-03T14:56:04.642424Z",
     "start_time": "2021-01-03T14:56:02.000300Z"
    }
   },
   "outputs": [
    {
     "data": {
      "image/png": "[encoded data removed]",
      "text/plain": [
       "<Figure size 720x360 with 1 Axes>"
      ]
     },
     "metadata": {
      "needs_background": "light"
     },
     "output_type": "display_data"
    }
   ],
   "source": [
    "#Plotting the stock 10YBond Returns value to see the trends\n",
    "plt.plot('Months','10YBond Returns',data=df);"
   ]
  },
  {
   "cell_type": "markdown",
   "metadata": {},
   "source": [
    "## Estimating the  model with 2 regimes"
   ]
  },
  {
   "cell_type": "code",
   "execution_count": 60,
   "metadata": {
    "ExecuteTime": {
     "end_time": "2021-01-03T14:56:11.137353Z",
     "start_time": "2021-01-03T14:56:10.963011Z"
    }
   },
   "outputs": [],
   "source": [
    "exog = pd.concat((df[\"Stock Returns\"],df[\"Monetary Policy Rate\"],df[\"Inflation Rate\"],df[\"Exchange Rate\"]), axis=1)\n"
   ]
  },
  {
   "cell_type": "code",
   "execution_count": 61,
   "metadata": {
    "ExecuteTime": {
     "end_time": "2021-01-03T14:56:16.674475Z",
     "start_time": "2021-01-03T14:56:13.544076Z"
    }
   },
   "outputs": [],
   "source": [
    "# Fit the model\n",
    "#exog=df[\"Stock Returns\",\"Monetary Policy Rate\",\"Inflation Rate\",\"Exchange Rate\"]\n",
    "df_model = sm.tsa.MarkovRegression(df['10YBond Returns'], k_regimes=2,exog=exog1)\n",
    "result = df_model.fit()"
   ]
  },
  {
   "cell_type": "code",
   "execution_count": 62,
   "metadata": {
    "ExecuteTime": {
     "end_time": "2021-01-03T14:56:18.375368Z",
     "start_time": "2021-01-03T14:56:17.116194Z"
    }
   },
   "outputs": [
    {
     "data": {
      "text/html": [
       "<table class=\"simpletable\">\n",
       "<caption>Markov Switching Model Results</caption>\n",
       "<tr>\n",
       "  <th>Dep. Variable:</th>    <td>10YBond Returns</td> <th>  No. Observations:  </th>    <td>60</td>   \n",
       "</tr>\n",
       "<tr>\n",
       "  <th>Model:</th>           <td>MarkovRegression</td> <th>  Log Likelihood     </th>  <td>186.305</td>\n",
       "</tr>\n",
       "<tr>\n",
       "  <th>Date:</th>            <td>Sun, 03 Jan 2021</td> <th>  AIC                </th> <td>-346.610</td>\n",
       "</tr>\n",
       "<tr>\n",
       "  <th>Time:</th>                <td>06:56:17</td>     <th>  BIC                </th> <td>-319.384</td>\n",
       "</tr>\n",
       "<tr>\n",
       "  <th>Sample:</th>                  <td>0</td>        <th>  HQIC               </th> <td>-335.961</td>\n",
       "</tr>\n",
       "<tr>\n",
       "  <th></th>                       <td> - 60</td>      <th>                     </th>     <td> </td>   \n",
       "</tr>\n",
       "<tr>\n",
       "  <th>Covariance Type:</th>      <td>approx</td>      <th>                     </th>     <td> </td>   \n",
       "</tr>\n",
       "</table>\n",
       "<table class=\"simpletable\">\n",
       "<caption>Regime 0 parameters</caption>\n",
       "<tr>\n",
       "    <td></td>       <th>coef</th>     <th>std err</th>      <th>z</th>      <th>P>|z|</th>  <th>[0.025</th>    <th>0.975]</th>  \n",
       "</tr>\n",
       "<tr>\n",
       "  <th>const</th> <td>   -0.0028</td> <td>    0.000</td> <td>   -6.146</td> <td> 0.000</td> <td>   -0.004</td> <td>   -0.002</td>\n",
       "</tr>\n",
       "<tr>\n",
       "  <th>x1</th>    <td>   -0.0497</td> <td>   0.0001</td> <td> -497.244</td> <td> 0.000</td> <td>   -0.050</td> <td>   -0.050</td>\n",
       "</tr>\n",
       "<tr>\n",
       "  <th>x2</th>    <td>    0.5097</td> <td> 6.12e-05</td> <td> 8322.582</td> <td> 0.000</td> <td>    0.510</td> <td>    0.510</td>\n",
       "</tr>\n",
       "<tr>\n",
       "  <th>x3</th>    <td>   -0.0001</td> <td>    0.139</td> <td>   -0.001</td> <td> 0.999</td> <td>   -0.272</td> <td>    0.272</td>\n",
       "</tr>\n",
       "<tr>\n",
       "  <th>x4</th>    <td>    0.0012</td> <td>    0.027</td> <td>    0.044</td> <td> 0.965</td> <td>   -0.052</td> <td>    0.055</td>\n",
       "</tr>\n",
       "</table>\n",
       "<table class=\"simpletable\">\n",
       "<caption>Regime 1 parameters</caption>\n",
       "<tr>\n",
       "    <td></td>       <th>coef</th>     <th>std err</th>      <th>z</th>      <th>P>|z|</th>  <th>[0.025</th>    <th>0.975]</th>  \n",
       "</tr>\n",
       "<tr>\n",
       "  <th>const</th> <td>    0.1324</td> <td>    0.016</td> <td>    8.172</td> <td> 0.000</td> <td>    0.101</td> <td>    0.164</td>\n",
       "</tr>\n",
       "<tr>\n",
       "  <th>x1</th>    <td>    0.0017</td> <td>    0.024</td> <td>    0.071</td> <td> 0.944</td> <td>   -0.046</td> <td>    0.049</td>\n",
       "</tr>\n",
       "<tr>\n",
       "  <th>x2</th>    <td>   -0.2795</td> <td>    0.170</td> <td>   -1.641</td> <td> 0.101</td> <td>   -0.613</td> <td>    0.054</td>\n",
       "</tr>\n",
       "<tr>\n",
       "  <th>x3</th>    <td>-5.468e-05</td> <td> 4.07e-05</td> <td>   -1.344</td> <td> 0.179</td> <td>   -0.000</td> <td> 2.51e-05</td>\n",
       "</tr>\n",
       "<tr>\n",
       "  <th>x4</th>    <td>    0.0007</td> <td>    0.000</td> <td>    4.961</td> <td> 0.000</td> <td>    0.000</td> <td>    0.001</td>\n",
       "</tr>\n",
       "</table>\n",
       "<table class=\"simpletable\">\n",
       "<caption>Non-switching parameters</caption>\n",
       "<tr>\n",
       "     <td></td>       <th>coef</th>     <th>std err</th>      <th>z</th>      <th>P>|z|</th>  <th>[0.025</th>    <th>0.975]</th>  \n",
       "</tr>\n",
       "<tr>\n",
       "  <th>sigma2</th> <td>    0.0001</td> <td> 2.15e-05</td> <td>    5.477</td> <td> 0.000</td> <td> 7.55e-05</td> <td>    0.000</td>\n",
       "</tr>\n",
       "</table>\n",
       "<table class=\"simpletable\">\n",
       "<caption>Regime transition parameters</caption>\n",
       "<tr>\n",
       "     <td></td>        <th>coef</th>     <th>std err</th>      <th>z</th>      <th>P>|z|</th>  <th>[0.025</th>    <th>0.975]</th>  \n",
       "</tr>\n",
       "<tr>\n",
       "  <th>p[0->0]</th> <td> 1.219e-10</td> <td>    0.000</td> <td> 3.62e-07</td> <td> 1.000</td> <td>   -0.001</td> <td>    0.001</td>\n",
       "</tr>\n",
       "<tr>\n",
       "  <th>p[1->0]</th> <td> 2.201e-20</td> <td>      nan</td> <td>      nan</td> <td>   nan</td> <td>      nan</td> <td>      nan</td>\n",
       "</tr>\n",
       "</table><br/><br/>Warnings:<br/>[1] Covariance matrix calculated using numerical (complex-step) differentiation.<br/>[2] Covariance matrix is singular or near-singular, with condition number 1.22e+23. Standard errors may be unstable."
      ],
      "text/plain": [
       "<class 'statsmodels.iolib.summary.Summary'>\n",
       "\"\"\"\n",
       "                        Markov Switching Model Results                        \n",
       "==============================================================================\n",
       "Dep. Variable:        10YBond Returns   No. Observations:                   60\n",
       "Model:               MarkovRegression   Log Likelihood                 186.305\n",
       "Date:                Sun, 03 Jan 2021   AIC                           -346.610\n",
       "Time:                        06:56:17   BIC                           -319.384\n",
       "Sample:                             0   HQIC                          -335.961\n",
       "                                 - 60                                         \n",
       "Covariance Type:               approx                                         \n",
       "                             Regime 0 parameters                              \n",
       "==============================================================================\n",
       "                 coef    std err          z      P>|z|      [0.025      0.975]\n",
       "------------------------------------------------------------------------------\n",
       "const         -0.0028      0.000     -6.146      0.000      -0.004      -0.002\n",
       "x1            -0.0497     0.0001   -497.244      0.000      -0.050      -0.050\n",
       "x2             0.5097   6.12e-05   8322.582      0.000       0.510       0.510\n",
       "x3            -0.0001      0.139     -0.001      0.999      -0.272       0.272\n",
       "x4             0.0012      0.027      0.044      0.965      -0.052       0.055\n",
       "                             Regime 1 parameters                              \n",
       "==============================================================================\n",
       "                 coef    std err          z      P>|z|      [0.025      0.975]\n",
       "------------------------------------------------------------------------------\n",
       "const          0.1324      0.016      8.172      0.000       0.101       0.164\n",
       "x1             0.0017      0.024      0.071      0.944      -0.046       0.049\n",
       "x2            -0.2795      0.170     -1.641      0.101      -0.613       0.054\n",
       "x3         -5.468e-05   4.07e-05     -1.344      0.179      -0.000    2.51e-05\n",
       "x4             0.0007      0.000      4.961      0.000       0.000       0.001\n",
       "                           Non-switching parameters                           \n",
       "==============================================================================\n",
       "                 coef    std err          z      P>|z|      [0.025      0.975]\n",
       "------------------------------------------------------------------------------\n",
       "sigma2         0.0001   2.15e-05      5.477      0.000    7.55e-05       0.000\n",
       "                         Regime transition parameters                         \n",
       "==============================================================================\n",
       "                 coef    std err          z      P>|z|      [0.025      0.975]\n",
       "------------------------------------------------------------------------------\n",
       "p[0->0]     1.219e-10      0.000   3.62e-07      1.000      -0.001       0.001\n",
       "p[1->0]     2.201e-20        nan        nan        nan         nan         nan\n",
       "==============================================================================\n",
       "\n",
       "Warnings:\n",
       "[1] Covariance matrix calculated using numerical (complex-step) differentiation.\n",
       "[2] Covariance matrix is singular or near-singular, with condition number 1.22e+23. Standard errors may be unstable.\n",
       "\"\"\""
      ]
     },
     "execution_count": 62,
     "metadata": {},
     "output_type": "execute_result"
    }
   ],
   "source": [
    "result.summary()"
   ]
  },
  {
   "cell_type": "markdown",
   "metadata": {},
   "source": [
    "## Estimating the model for 3 regimes"
   ]
  },
  {
   "cell_type": "code",
   "execution_count": 67,
   "metadata": {
    "ExecuteTime": {
     "end_time": "2021-01-03T15:02:58.431744Z",
     "start_time": "2021-01-03T15:02:47.118151Z"
    }
   },
   "outputs": [],
   "source": [
    "# Fit the model\n",
    "#exog=df[\"Stock Returns\",\"Monetary Policy Rate\",\"Inflation Rate\",\"Exchange Rate\"]\n",
    "df_model2 = sm.tsa.MarkovRegression(df['10YBond Returns'], k_regimes=3,exog=exog1)\n",
    "result2 = df_model.fit()"
   ]
  },
  {
   "cell_type": "code",
   "execution_count": 68,
   "metadata": {
    "ExecuteTime": {
     "end_time": "2021-01-03T15:02:58.983503Z",
     "start_time": "2021-01-03T15:02:58.670159Z"
    }
   },
   "outputs": [
    {
     "data": {
      "text/html": [
       "<table class=\"simpletable\">\n",
       "<caption>Markov Switching Model Results</caption>\n",
       "<tr>\n",
       "  <th>Dep. Variable:</th>    <td>10YBond Returns</td> <th>  No. Observations:  </th>    <td>60</td>   \n",
       "</tr>\n",
       "<tr>\n",
       "  <th>Model:</th>           <td>MarkovRegression</td> <th>  Log Likelihood     </th>  <td>186.305</td>\n",
       "</tr>\n",
       "<tr>\n",
       "  <th>Date:</th>            <td>Sun, 03 Jan 2021</td> <th>  AIC                </th> <td>-328.610</td>\n",
       "</tr>\n",
       "<tr>\n",
       "  <th>Time:</th>                <td>07:02:58</td>     <th>  BIC                </th> <td>-282.535</td>\n",
       "</tr>\n",
       "<tr>\n",
       "  <th>Sample:</th>                  <td>0</td>        <th>  HQIC               </th> <td>-310.588</td>\n",
       "</tr>\n",
       "<tr>\n",
       "  <th></th>                       <td> - 60</td>      <th>                     </th>     <td> </td>   \n",
       "</tr>\n",
       "<tr>\n",
       "  <th>Covariance Type:</th>      <td>approx</td>      <th>                     </th>     <td> </td>   \n",
       "</tr>\n",
       "</table>\n",
       "<table class=\"simpletable\">\n",
       "<caption>Regime 0 parameters</caption>\n",
       "<tr>\n",
       "    <td></td>       <th>coef</th>     <th>std err</th>      <th>z</th>      <th>P>|z|</th>  <th>[0.025</th>    <th>0.975]</th>  \n",
       "</tr>\n",
       "<tr>\n",
       "  <th>const</th> <td>   -0.0228</td> <td>    0.018</td> <td>   -1.269</td> <td> 0.204</td> <td>   -0.058</td> <td>    0.012</td>\n",
       "</tr>\n",
       "<tr>\n",
       "  <th>x1</th>    <td>   -0.0485</td> <td>    0.001</td> <td>  -72.203</td> <td> 0.000</td> <td>   -0.050</td> <td>   -0.047</td>\n",
       "</tr>\n",
       "<tr>\n",
       "  <th>x2</th>    <td>    0.2901</td> <td>    0.003</td> <td>   97.994</td> <td> 0.000</td> <td>    0.284</td> <td>    0.296</td>\n",
       "</tr>\n",
       "<tr>\n",
       "  <th>x3</th>    <td>   -0.0001</td> <td>    4.134</td> <td> -3.5e-05</td> <td> 1.000</td> <td>   -8.103</td> <td>    8.103</td>\n",
       "</tr>\n",
       "<tr>\n",
       "  <th>x4</th>    <td>    0.0020</td> <td>    2.298</td> <td>    0.001</td> <td> 0.999</td> <td>   -4.502</td> <td>    4.506</td>\n",
       "</tr>\n",
       "</table>\n",
       "<table class=\"simpletable\">\n",
       "<caption>Regime 1 parameters</caption>\n",
       "<tr>\n",
       "    <td></td>       <th>coef</th>     <th>std err</th>      <th>z</th>      <th>P>|z|</th>  <th>[0.025</th>    <th>0.975]</th>  \n",
       "</tr>\n",
       "<tr>\n",
       "  <th>const</th> <td>    0.0298</td> <td>   53.772</td> <td>    0.001</td> <td> 1.000</td> <td> -105.362</td> <td>  105.422</td>\n",
       "</tr>\n",
       "<tr>\n",
       "  <th>x1</th>    <td>   -0.0526</td> <td>    7.264</td> <td>   -0.007</td> <td> 0.994</td> <td>  -14.290</td> <td>   14.185</td>\n",
       "</tr>\n",
       "<tr>\n",
       "  <th>x2</th>    <td>    0.5023</td> <td>    1.746</td> <td>    0.288</td> <td> 0.774</td> <td>   -2.920</td> <td>    3.925</td>\n",
       "</tr>\n",
       "<tr>\n",
       "  <th>x3</th>    <td>-7.165e-05</td> <td>    0.875</td> <td>-8.19e-05</td> <td> 1.000</td> <td>   -1.716</td> <td>    1.716</td>\n",
       "</tr>\n",
       "<tr>\n",
       "  <th>x4</th>    <td>    0.0006</td> <td>    2.705</td> <td>    0.000</td> <td> 1.000</td> <td>   -5.302</td> <td>    5.303</td>\n",
       "</tr>\n",
       "</table>\n",
       "<table class=\"simpletable\">\n",
       "<caption>Regime 2 parameters</caption>\n",
       "<tr>\n",
       "    <td></td>       <th>coef</th>     <th>std err</th>      <th>z</th>      <th>P>|z|</th>  <th>[0.025</th>    <th>0.975]</th>  \n",
       "</tr>\n",
       "<tr>\n",
       "  <th>const</th> <td>    0.1324</td> <td>    0.016</td> <td>    8.172</td> <td> 0.000</td> <td>    0.101</td> <td>    0.164</td>\n",
       "</tr>\n",
       "<tr>\n",
       "  <th>x1</th>    <td>    0.0017</td> <td>    0.024</td> <td>    0.071</td> <td> 0.944</td> <td>   -0.046</td> <td>    0.049</td>\n",
       "</tr>\n",
       "<tr>\n",
       "  <th>x2</th>    <td>   -0.2795</td> <td>    0.170</td> <td>   -1.641</td> <td> 0.101</td> <td>   -0.613</td> <td>    0.054</td>\n",
       "</tr>\n",
       "<tr>\n",
       "  <th>x3</th>    <td>-5.468e-05</td> <td> 4.07e-05</td> <td>   -1.344</td> <td> 0.179</td> <td>   -0.000</td> <td> 2.51e-05</td>\n",
       "</tr>\n",
       "<tr>\n",
       "  <th>x4</th>    <td>    0.0007</td> <td>    0.000</td> <td>    4.961</td> <td> 0.000</td> <td>    0.000</td> <td>    0.001</td>\n",
       "</tr>\n",
       "</table>\n",
       "<table class=\"simpletable\">\n",
       "<caption>Non-switching parameters</caption>\n",
       "<tr>\n",
       "     <td></td>       <th>coef</th>     <th>std err</th>      <th>z</th>      <th>P>|z|</th>  <th>[0.025</th>    <th>0.975]</th>  \n",
       "</tr>\n",
       "<tr>\n",
       "  <th>sigma2</th> <td>    0.0001</td> <td> 2.15e-05</td> <td>    5.477</td> <td> 0.000</td> <td> 7.55e-05</td> <td>    0.000</td>\n",
       "</tr>\n",
       "</table>\n",
       "<table class=\"simpletable\">\n",
       "<caption>Regime transition parameters</caption>\n",
       "<tr>\n",
       "     <td></td>        <th>coef</th>     <th>std err</th>      <th>z</th>      <th>P>|z|</th>  <th>[0.025</th>    <th>0.975]</th>  \n",
       "</tr>\n",
       "<tr>\n",
       "  <th>p[0->0]</th> <td>  3.83e-20</td> <td>    0.028</td> <td> 1.38e-18</td> <td> 1.000</td> <td>   -0.054</td> <td>    0.054</td>\n",
       "</tr>\n",
       "<tr>\n",
       "  <th>p[1->0]</th> <td> 5.976e-18</td> <td>      nan</td> <td>      nan</td> <td>   nan</td> <td>      nan</td> <td>      nan</td>\n",
       "</tr>\n",
       "<tr>\n",
       "  <th>p[2->0]</th> <td> 1.631e-17</td> <td>      nan</td> <td>      nan</td> <td>   nan</td> <td>      nan</td> <td>      nan</td>\n",
       "</tr>\n",
       "<tr>\n",
       "  <th>p[0->1]</th> <td>    0.9895</td> <td>    0.135</td> <td>    7.305</td> <td> 0.000</td> <td>    0.724</td> <td>    1.255</td>\n",
       "</tr>\n",
       "<tr>\n",
       "  <th>p[1->1]</th> <td> 1.044e-05</td> <td>   45.739</td> <td> 2.28e-07</td> <td> 1.000</td> <td>  -89.646</td> <td>   89.646</td>\n",
       "</tr>\n",
       "<tr>\n",
       "  <th>p[2->1]</th> <td> 7.447e-09</td> <td>      nan</td> <td>      nan</td> <td>   nan</td> <td>      nan</td> <td>      nan</td>\n",
       "</tr>\n",
       "</table><br/><br/>Warnings:<br/>[1] Covariance matrix calculated using numerical (complex-step) differentiation.<br/>[2] Covariance matrix is singular or near-singular, with condition number 1.96e+25. Standard errors may be unstable."
      ],
      "text/plain": [
       "<class 'statsmodels.iolib.summary.Summary'>\n",
       "\"\"\"\n",
       "                        Markov Switching Model Results                        \n",
       "==============================================================================\n",
       "Dep. Variable:        10YBond Returns   No. Observations:                   60\n",
       "Model:               MarkovRegression   Log Likelihood                 186.305\n",
       "Date:                Sun, 03 Jan 2021   AIC                           -328.610\n",
       "Time:                        07:02:58   BIC                           -282.535\n",
       "Sample:                             0   HQIC                          -310.588\n",
       "                                 - 60                                         \n",
       "Covariance Type:               approx                                         \n",
       "                             Regime 0 parameters                              \n",
       "==============================================================================\n",
       "                 coef    std err          z      P>|z|      [0.025      0.975]\n",
       "------------------------------------------------------------------------------\n",
       "const         -0.0228      0.018     -1.269      0.204      -0.058       0.012\n",
       "x1            -0.0485      0.001    -72.203      0.000      -0.050      -0.047\n",
       "x2             0.2901      0.003     97.994      0.000       0.284       0.296\n",
       "x3            -0.0001      4.134   -3.5e-05      1.000      -8.103       8.103\n",
       "x4             0.0020      2.298      0.001      0.999      -4.502       4.506\n",
       "                             Regime 1 parameters                              \n",
       "==============================================================================\n",
       "                 coef    std err          z      P>|z|      [0.025      0.975]\n",
       "------------------------------------------------------------------------------\n",
       "const          0.0298     53.772      0.001      1.000    -105.362     105.422\n",
       "x1            -0.0526      7.264     -0.007      0.994     -14.290      14.185\n",
       "x2             0.5023      1.746      0.288      0.774      -2.920       3.925\n",
       "x3         -7.165e-05      0.875  -8.19e-05      1.000      -1.716       1.716\n",
       "x4             0.0006      2.705      0.000      1.000      -5.302       5.303\n",
       "                             Regime 2 parameters                              \n",
       "==============================================================================\n",
       "                 coef    std err          z      P>|z|      [0.025      0.975]\n",
       "------------------------------------------------------------------------------\n",
       "const          0.1324      0.016      8.172      0.000       0.101       0.164\n",
       "x1             0.0017      0.024      0.071      0.944      -0.046       0.049\n",
       "x2            -0.2795      0.170     -1.641      0.101      -0.613       0.054\n",
       "x3         -5.468e-05   4.07e-05     -1.344      0.179      -0.000    2.51e-05\n",
       "x4             0.0007      0.000      4.961      0.000       0.000       0.001\n",
       "                           Non-switching parameters                           \n",
       "==============================================================================\n",
       "                 coef    std err          z      P>|z|      [0.025      0.975]\n",
       "------------------------------------------------------------------------------\n",
       "sigma2         0.0001   2.15e-05      5.477      0.000    7.55e-05       0.000\n",
       "                         Regime transition parameters                         \n",
       "==============================================================================\n",
       "                 coef    std err          z      P>|z|      [0.025      0.975]\n",
       "------------------------------------------------------------------------------\n",
       "p[0->0]      3.83e-20      0.028   1.38e-18      1.000      -0.054       0.054\n",
       "p[1->0]     5.976e-18        nan        nan        nan         nan         nan\n",
       "p[2->0]     1.631e-17        nan        nan        nan         nan         nan\n",
       "p[0->1]        0.9895      0.135      7.305      0.000       0.724       1.255\n",
       "p[1->1]     1.044e-05     45.739   2.28e-07      1.000     -89.646      89.646\n",
       "p[2->1]     7.447e-09        nan        nan        nan         nan         nan\n",
       "==============================================================================\n",
       "\n",
       "Warnings:\n",
       "[1] Covariance matrix calculated using numerical (complex-step) differentiation.\n",
       "[2] Covariance matrix is singular or near-singular, with condition number 1.96e+25. Standard errors may be unstable.\n",
       "\"\"\""
      ]
     },
     "execution_count": 68,
     "metadata": {},
     "output_type": "execute_result"
    }
   ],
   "source": [
    "result2.summary()"
   ]
  },
  {
   "cell_type": "code",
   "execution_count": 49,
   "metadata": {
    "ExecuteTime": {
     "end_time": "2021-01-03T10:14:37.005271Z",
     "start_time": "2021-01-03T10:14:35.312835Z"
    }
   },
   "outputs": [
    {
     "data": {
      "image/png": "[encoded data removed]",
      "text/plain": [
       "<Figure size 720x360 with 1 Axes>"
      ]
     },
     "metadata": {
      "needs_background": "light"
     },
     "output_type": "display_data"
    }
   ],
   "source": [
    "#Plotting the Stock Returns values to see the trends\n",
    "plt.plot('Months','Stock Returns',data=df);"
   ]
  },
  {
   "cell_type": "code",
   "execution_count": 22,
   "metadata": {
    "ExecuteTime": {
     "end_time": "2021-01-03T09:30:06.560598Z",
     "start_time": "2021-01-03T09:30:06.076055Z"
    }
   },
   "outputs": [
    {
     "data": {
      "text/html": [
       "<div>\n",
       "<style scoped>\n",
       "    .dataframe tbody tr th:only-of-type {\n",
       "        vertical-align: middle;\n",
       "    }\n",
       "\n",
       "    .dataframe tbody tr th {\n",
       "        vertical-align: top;\n",
       "    }\n",
       "\n",
       "    .dataframe thead th {\n",
       "        text-align: right;\n",
       "    }\n",
       "</style>\n",
       "<table border=\"1\" class=\"dataframe\">\n",
       "  <thead>\n",
       "    <tr style=\"text-align: right;\">\n",
       "      <th></th>\n",
       "      <th>10YBond Returns</th>\n",
       "      <th>Stock Returns</th>\n",
       "      <th>Monetary Policy Rate</th>\n",
       "      <th>Inflation Rate</th>\n",
       "      <th>Exchange Rate</th>\n",
       "    </tr>\n",
       "  </thead>\n",
       "  <tbody>\n",
       "    <tr>\n",
       "      <th>count</th>\n",
       "      <td>60.000000</td>\n",
       "      <td>60.000000</td>\n",
       "      <td>60.00000</td>\n",
       "      <td>60.000000</td>\n",
       "      <td>60.000000</td>\n",
       "    </tr>\n",
       "    <tr>\n",
       "      <th>mean</th>\n",
       "      <td>0.145617</td>\n",
       "      <td>0.000142</td>\n",
       "      <td>0.13300</td>\n",
       "      <td>231.947597</td>\n",
       "      <td>84.771377</td>\n",
       "    </tr>\n",
       "    <tr>\n",
       "      <th>std</th>\n",
       "      <td>0.013192</td>\n",
       "      <td>0.059974</td>\n",
       "      <td>0.01176</td>\n",
       "      <td>43.422691</td>\n",
       "      <td>12.276301</td>\n",
       "    </tr>\n",
       "    <tr>\n",
       "      <th>min</th>\n",
       "      <td>0.112000</td>\n",
       "      <td>-0.165000</td>\n",
       "      <td>0.11000</td>\n",
       "      <td>165.766401</td>\n",
       "      <td>62.154535</td>\n",
       "    </tr>\n",
       "    <tr>\n",
       "      <th>25%</th>\n",
       "      <td>0.139250</td>\n",
       "      <td>-0.037525</td>\n",
       "      <td>0.13500</td>\n",
       "      <td>192.229193</td>\n",
       "      <td>73.331423</td>\n",
       "    </tr>\n",
       "    <tr>\n",
       "      <th>50%</th>\n",
       "      <td>0.145000</td>\n",
       "      <td>-0.005800</td>\n",
       "      <td>0.14000</td>\n",
       "      <td>235.595284</td>\n",
       "      <td>86.935094</td>\n",
       "    </tr>\n",
       "    <tr>\n",
       "      <th>75%</th>\n",
       "      <td>0.156250</td>\n",
       "      <td>0.031050</td>\n",
       "      <td>0.14000</td>\n",
       "      <td>268.906596</td>\n",
       "      <td>93.995561</td>\n",
       "    </tr>\n",
       "    <tr>\n",
       "      <th>max</th>\n",
       "      <td>0.166000</td>\n",
       "      <td>0.159500</td>\n",
       "      <td>0.14000</td>\n",
       "      <td>307.473107</td>\n",
       "      <td>107.348376</td>\n",
       "    </tr>\n",
       "  </tbody>\n",
       "</table>\n",
       "</div>"
      ],
      "text/plain": [
       "       10YBond Returns  Stock Returns  Monetary Policy Rate  Inflation Rate  \\\n",
       "count        60.000000      60.000000              60.00000       60.000000   \n",
       "mean          0.145617       0.000142               0.13300      231.947597   \n",
       "std           0.013192       0.059974               0.01176       43.422691   \n",
       "min           0.112000      -0.165000               0.11000      165.766401   \n",
       "25%           0.139250      -0.037525               0.13500      192.229193   \n",
       "50%           0.145000      -0.005800               0.14000      235.595284   \n",
       "75%           0.156250       0.031050               0.14000      268.906596   \n",
       "max           0.166000       0.159500               0.14000      307.473107   \n",
       "\n",
       "       Exchange Rate  \n",
       "count      60.000000  \n",
       "mean       84.771377  \n",
       "std        12.276301  \n",
       "min        62.154535  \n",
       "25%        73.331423  \n",
       "50%        86.935094  \n",
       "75%        93.995561  \n",
       "max       107.348376  "
      ]
     },
     "execution_count": 22,
     "metadata": {},
     "output_type": "execute_result"
    }
   ],
   "source": [
    "## Descriptive statistics of the data\n",
    "df.describe()"
   ]
  },
  {
   "cell_type": "code",
   "execution_count": 23,
   "metadata": {
    "ExecuteTime": {
     "end_time": "2021-01-03T09:30:11.608366Z",
     "start_time": "2021-01-03T09:30:11.480352Z"
    }
   },
   "outputs": [
    {
     "data": {
      "text/html": [
       "<div>\n",
       "<style scoped>\n",
       "    .dataframe tbody tr th:only-of-type {\n",
       "        vertical-align: middle;\n",
       "    }\n",
       "\n",
       "    .dataframe tbody tr th {\n",
       "        vertical-align: top;\n",
       "    }\n",
       "\n",
       "    .dataframe thead th {\n",
       "        text-align: right;\n",
       "    }\n",
       "</style>\n",
       "<table border=\"1\" class=\"dataframe\">\n",
       "  <thead>\n",
       "    <tr style=\"text-align: right;\">\n",
       "      <th></th>\n",
       "      <th>10YBond Returns</th>\n",
       "      <th>Stock Returns</th>\n",
       "      <th>Monetary Policy Rate</th>\n",
       "      <th>Inflation Rate</th>\n",
       "      <th>Exchange Rate</th>\n",
       "    </tr>\n",
       "  </thead>\n",
       "  <tbody>\n",
       "    <tr>\n",
       "      <th>10YBond Returns</th>\n",
       "      <td>1.000000</td>\n",
       "      <td>0.145354</td>\n",
       "      <td>0.068170</td>\n",
       "      <td>-0.033807</td>\n",
       "      <td>0.465805</td>\n",
       "    </tr>\n",
       "    <tr>\n",
       "      <th>Stock Returns</th>\n",
       "      <td>0.145354</td>\n",
       "      <td>1.000000</td>\n",
       "      <td>0.029720</td>\n",
       "      <td>-0.074271</td>\n",
       "      <td>0.190054</td>\n",
       "    </tr>\n",
       "    <tr>\n",
       "      <th>Monetary Policy Rate</th>\n",
       "      <td>0.068170</td>\n",
       "      <td>0.029720</td>\n",
       "      <td>1.000000</td>\n",
       "      <td>0.584491</td>\n",
       "      <td>0.609954</td>\n",
       "    </tr>\n",
       "    <tr>\n",
       "      <th>Inflation Rate</th>\n",
       "      <td>-0.033807</td>\n",
       "      <td>-0.074271</td>\n",
       "      <td>0.584491</td>\n",
       "      <td>1.000000</td>\n",
       "      <td>0.422335</td>\n",
       "    </tr>\n",
       "    <tr>\n",
       "      <th>Exchange Rate</th>\n",
       "      <td>0.465805</td>\n",
       "      <td>0.190054</td>\n",
       "      <td>0.609954</td>\n",
       "      <td>0.422335</td>\n",
       "      <td>1.000000</td>\n",
       "    </tr>\n",
       "  </tbody>\n",
       "</table>\n",
       "</div>"
      ],
      "text/plain": [
       "                      10YBond Returns  Stock Returns  Monetary Policy Rate  \\\n",
       "10YBond Returns              1.000000       0.145354              0.068170   \n",
       "Stock Returns                0.145354       1.000000              0.029720   \n",
       "Monetary Policy Rate         0.068170       0.029720              1.000000   \n",
       "Inflation Rate              -0.033807      -0.074271              0.584491   \n",
       "Exchange Rate                0.465805       0.190054              0.609954   \n",
       "\n",
       "                      Inflation Rate  Exchange Rate  \n",
       "10YBond Returns            -0.033807       0.465805  \n",
       "Stock Returns              -0.074271       0.190054  \n",
       "Monetary Policy Rate        0.584491       0.609954  \n",
       "Inflation Rate              1.000000       0.422335  \n",
       "Exchange Rate               0.422335       1.000000  "
      ]
     },
     "execution_count": 23,
     "metadata": {},
     "output_type": "execute_result"
    }
   ],
   "source": [
    "## Correlation matrix of the data\n",
    "df.corr()"
   ]
  },
  {
   "cell_type": "markdown",
   "metadata": {},
   "source": [
    "## Smoothed probablity for 2 regimes"
   ]
  },
  {
   "cell_type": "code",
   "execution_count": 51,
   "metadata": {
    "ExecuteTime": {
     "end_time": "2021-01-03T10:15:06.290453Z",
     "start_time": "2021-01-03T10:15:04.647156Z"
    }
   },
   "outputs": [
    {
     "data": {
      "image/png": "[encoded data removed]",
      "text/plain": [
       "<Figure size 720x504 with 2 Axes>"
      ]
     },
     "metadata": {
      "needs_background": "light"
     },
     "output_type": "display_data"
    }
   ],
   "source": [
    "fig, axes = plt.subplots(2, figsize=(10,7))\n",
    "\n",
    "ax = axes[0]\n",
    "ax.plot(df[\"Months\"],result.smoothed_marginal_probabilities[0])\n",
    "ax.set(title='Smoothed probability of recession-free regime')\n",
    "\n",
    "ax = axes[1]\n",
    "ax.plot(df[\"Months\"],result.smoothed_marginal_probabilities[1])\n",
    "ax.set(title='Smoothed probability of recession regime')\n",
    "\n",
    "fig.tight_layout()"
   ]
  },
  {
   "cell_type": "code",
   "execution_count": null,
   "metadata": {},
   "outputs": [],
   "source": []
  },
  {
   "cell_type": "code",
   "execution_count": null,
   "metadata": {},
   "outputs": [],
   "source": []
  },
  {
   "cell_type": "markdown",
   "metadata": {},
   "source": [
    "## Smoothed probability  for 3 regimes"
   ]
  },
  {
   "cell_type": "code",
   "execution_count": 70,
   "metadata": {
    "ExecuteTime": {
     "end_time": "2021-01-03T15:19:43.463420Z",
     "start_time": "2021-01-03T15:19:40.614281Z"
    }
   },
   "outputs": [
    {
     "data": {
      "image/png": "[encoded data removed]",
      "text/plain": [
       "<Figure size 720x504 with 3 Axes>"
      ]
     },
     "metadata": {
      "needs_background": "light"
     },
     "output_type": "display_data"
    }
   ],
   "source": [
    "fig, axes = plt.subplots(3, figsize=(10,7))\n",
    "\n",
    "ax = axes[0]\n",
    "ax.plot(df[\"Months\"],result2.smoothed_marginal_probabilities[0])\n",
    "ax.set(title='Smoothed probability of boom regime')\n",
    "\n",
    "ax = axes[1]\n",
    "ax.plot(df[\"Months\"],result2.smoothed_marginal_probabilities[1])\n",
    "ax.set(title='Smoothed probability of recession regime')\n",
    "\n",
    "ax = axes[2]\n",
    "ax.plot(df[\"Months\"],result2.smoothed_marginal_probabilities[2])\n",
    "ax.set(title='Smoothed probability of recession-free regime')\n",
    "\n",
    "fig.tight_layout()"
   ]
  },
  {
   "cell_type": "code",
   "execution_count": null,
   "metadata": {},
   "outputs": [],
   "source": []
  },
  {
   "cell_type": "code",
   "execution_count": null,
   "metadata": {},
   "outputs": [],
   "source": []
  }
 ],
 "metadata": {
  "hide_input": false,
  "kernelspec": {
   "display_name": "Python 3",
   "language": "python",
   "name": "python3"
  },
  "language_info": {
   "codemirror_mode": {
    "name": "ipython",
    "version": 3
   },
   "file_extension": ".py",
   "mimetype": "text/x-python",
   "name": "python",
   "nbconvert_exporter": "python",
   "pygments_lexer": "ipython3",
   "version": "3.7.6"
  },
  "varInspector": {
   "cols": {
    "lenName": 16,
    "lenType": 16,
    "lenVar": 40
   },
   "kernels_config": {
    "python": {
     "delete_cmd_postfix": "",
     "delete_cmd_prefix": "del ",
     "library": "var_list.py",
     "varRefreshCmd": "print(var_dic_list())"
    },
    "r": {
     "delete_cmd_postfix": ") ",
     "delete_cmd_prefix": "rm(",
     "library": "var_list.r",
     "varRefreshCmd": "cat(var_dic_list()) "
    }
   },
   "types_to_exclude": [
    "module",
    "function",
    "builtin_function_or_method",
    "instance",
    "_Feature"
   ],
   "window_display": false
  }
 },
 "nbformat": 4,
 "nbformat_minor": 4
}
